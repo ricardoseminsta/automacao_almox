{
 "cells": [
  {
   "cell_type": "code",
   "execution_count": 118,
   "id": "85512872",
   "metadata": {},
   "outputs": [
    {
     "data": {
      "text/html": [
       "<style>.container { width:100% !important; }</style>"
      ],
      "text/plain": [
       "<IPython.core.display.HTML object>"
      ]
     },
     "metadata": {},
     "output_type": "display_data"
    }
   ],
   "source": [
    "from IPython.core.display import display, HTML\n",
    "display(HTML(\"<style>.container { width:100% !important; }</style>\"))"
   ]
  },
  {
   "cell_type": "code",
   "execution_count": 119,
   "id": "c3d37d65",
   "metadata": {
    "scrolled": false
   },
   "outputs": [
    {
     "data": {
      "text/plain": [
       "[{'i': 1, 'diferenca': 2},\n",
       " {'i': 2, 'diferenca': 5},\n",
       " {'i': 3, 'diferenca': 1},\n",
       " {'i': 4, 'diferenca': 7},\n",
       " {'i': 5, 'diferenca': 2},\n",
       " {'i': 6, 'diferenca': 2}]"
      ]
     },
     "metadata": {},
     "output_type": "display_data"
    }
   ],
   "source": [
    "import pandas as pd\n",
    "autentica = pd.read_excel('ls.xlsx')\n",
    "pedidos = pd.read_excel('consolidacao/pedidos.xlsx')\n",
    "pedidos = pedidos[pedidos['acao'].str.contains('pedido no suap')]\n",
    "pedidos.index = [x for x in range(1, len(pedidos)+1)]\n",
    "pedidos['i'] = [x for x in range(1, len(pedidos)+1)]\n",
    "pedidos = pedidos.iloc[0:6]\n",
    "\n",
    "qtd = pedidos[['i', 'diferenca']]\n",
    "dict_qtd = qtd.to_dict('records')\n",
    "ped = pedidos[['i', 'codigo']]\n",
    "dict_ped = ped.to_dict('records')\n",
    "\n",
    "\n",
    "display(dict_qtd)\n",
    "# display(pedidos.info())\n",
    "\n",
    "codigos = {}\n",
    "# for i in dict_ped:\n",
    "#     print(i['i'])\n",
    "#     print(i['codigo'])\n",
    "    \n",
    "\n",
    "login = str(autentica['login'][0])\n",
    "senha = str(autentica['senha'][0])\n",
    "\n",
    "indisponivel = \"indisponivel\""
   ]
  },
  {
   "cell_type": "code",
   "execution_count": 120,
   "id": "88cd81ff",
   "metadata": {},
   "outputs": [],
   "source": [
    "from selenium import webdriver\n",
    "from selenium.webdriver.common.keys import Keys\n",
    "from selenium.webdriver.support.ui import Select\n",
    "from selenium.common.exceptions import NoSuchElementException\n",
    "from selenium.webdriver.support.ui import Select\n",
    "import time\n",
    "\n",
    "def abrir_suap():\n",
    "    \n",
    "    global nav\n",
    "    nav = webdriver.Chrome()\n",
    "    nav.get(\"https://suap.ifpe.edu.br/accounts/login/?next=/\")\n",
    "    # inserindo usuário\n",
    "    nav.find_element_by_xpath('//*[@id=\"id_username\"]').click()\n",
    "    nav.find_element_by_xpath('//*[@id=\"id_username\"]').send_keys(login)\n",
    "\n",
    "    # inserindo senha \n",
    "    nav.find_element_by_xpath('//*[@id=\"id_password\"]').click()\n",
    "    nav.find_element_by_xpath('//*[@id=\"id_password\"]').send_keys(senha)\n",
    "\n",
    "    nav.find_element_by_xpath('//*[@id=\"ok\"]').click()"
   ]
  },
  {
   "cell_type": "code",
   "execution_count": 121,
   "id": "9694b2f1",
   "metadata": {},
   "outputs": [],
   "source": [
    "df_elemento_despesa = pd.DataFrame()\n",
    "df_temp = pd.DataFrame(columns=('value', 'ed'))\n",
    "df_temp.loc[0] = ['14', 'esportes']\n",
    "# display(df_temp)\n",
    "\n",
    "opcoes = []\n",
    "valores = []\n",
    "\n",
    "def varrer_ed():\n",
    "#     abrir_suap()\n",
    "    nav.get(\"https://suap.ifpe.edu.br/almoxarifado/form_busca/materialconsumo/\")\n",
    "        \n",
    "    valor_ed = nav.find_element_by_id('id_elemento_despesa')\n",
    "    options = [x for x in valor_ed.find_elements_by_tag_name('option')]\n",
    "    \n",
    "    for i in options:\n",
    "        # print(i.get_attribute('value')+\" \"+i.text)\n",
    "        opcoes.append(i.text)\n",
    "        valores.append(i.get_attribute('value'))\n",
    "#         print(f'{i.text}-{i.get_attribute(\"value\")}')\n",
    "\n",
    "    df_elemento_despesa['value'] = valores\n",
    "    df_elemento_despesa['ed']= opcoes\n",
    "    \n",
    "#     display(df_elemento_despesa)"
   ]
  },
  {
   "cell_type": "code",
   "execution_count": 122,
   "id": "d55f832f",
   "metadata": {},
   "outputs": [],
   "source": [
    "def get_qtd():\n",
    "    \n",
    "    abrir_suap()\n",
    "    \n",
    "    df_tabela = pd.DataFrame()\n",
    "    tabela = []\n",
    "    codigos = []\n",
    "    descricoes = []\n",
    "    quantidades = []\n",
    "    valores = []\n",
    "    elemento = []\n",
    "    \n",
    "    try:\n",
    "        pag = 1\n",
    "        saida = True\n",
    "        while saida:\n",
    "                \n",
    "            nav.get(f'https://suap.ifpe.edu.br/almoxarifado/form_busca/materialconsumo/?page={pag}&material=&elemento_despesa=&estoque_tipo=emcampus&unidade_medida=')\n",
    "            celula = nav.find_element_by_tag_name('td')\n",
    "                \n",
    "            if celula:\n",
    "                lista = nav.find_element_by_tag_name('table')\n",
    "                td = lista.find_elements_by_tag_name('td')\n",
    "                \n",
    "                for i in td:\n",
    "                    tabela.append(i.text)\n",
    "                \n",
    "                pag += 1\n",
    "            else:\n",
    "                saida = False\n",
    "                \n",
    "    except NoSuchElementException:\n",
    "        print('acabaram as páginas')\n",
    "        \n",
    "    for cod in range(0, len(tabela), 7):\n",
    "        codigos.append(tabela[cod])\n",
    "\n",
    "    for des in range(1, len(tabela), 7):\n",
    "        descricoes.append(tabela[des])\n",
    "\n",
    "    for qtd in range(4, len(tabela), 7):\n",
    "        quantidades.append(tabela[qtd])\n",
    "    \n",
    "    for val in range(5, len(tabela), 7):\n",
    "        valores.append(tabela[val])\n",
    "        \n",
    "    for ed in range(3, len(tabela), 7):\n",
    "        elemento.append(tabela[ed])\n",
    "\n",
    "    df_tabela['codigo'] = codigos\n",
    "    df_tabela['descricao'] = descricoes\n",
    "    \n",
    "    df_tabela['qtd'] = quantidades\n",
    "    df_tabela['qtd'] = pd.to_numeric(df_tabela['qtd'])\n",
    "    \n",
    "    df_tabela['vlr_total'] = valores\n",
    "    df_tabela['vlr_total'] = df_tabela['vlr_total'].str[2:]\n",
    "    df_tabela['vlr_total'] = pd.to_numeric(df_tabela['vlr_total'])\n",
    "    \n",
    "    df_tabela['vlr_unt'] = df_tabela['vlr_total'] / df_tabela['qtd']\n",
    "    df_tabela['vlr_unt'] = df_tabela['vlr_unt'].round(2)\n",
    "    \n",
    "    df_tabela['ed'] = elemento\n",
    "    \n",
    "    df_tabela.to_excel('relatorio/relatorio.xlsx', index=False)\n",
    "    display(df_tabela)\n",
    "    \n",
    "    nav.quit()\n"
   ]
  },
  {
   "cell_type": "code",
   "execution_count": 123,
   "id": "2fe83cbe",
   "metadata": {
    "scrolled": false
   },
   "outputs": [],
   "source": [
    "# abrir_suap()\n",
    "nav.get('https://suap.ifpe.edu.br/almoxarifado/form_requisicao_pessoa_pedido/')\n",
    "\n",
    "# preenchendo campo do requisitante\n",
    "nav.find_element_by_xpath('/html/body/div[1]/div[3]/form/fieldset/div[2]/input[1]').send_keys('Andrea Dacal')\n",
    "time.sleep(2)\n",
    "nav.find_element_by_xpath('/html/body/div[1]/div[3]/form/fieldset/div[2]/input[1]').send_keys(Keys.DOWN)\n",
    "nav.find_element_by_xpath('/html/body/div[1]/div[3]/form/fieldset/div[2]/input[1]').send_keys(Keys.ENTER)\n",
    "\n",
    "# preenchento campo do pedido do material\n",
    "click = 1\n",
    "while click != len(pedidos):\n",
    "    nav.find_element_by_name('addItem').click()\n",
    "    time.sleep(1)\n",
    "    click += 1\n",
    "\n",
    "for i in dict_ped:\n",
    "    nav.find_element_by_xpath(f'/html/body/div[1]/div[3]/form/div[1]/fieldset/div[{i[\"i\"]}]/input[1]').send_keys(i['codigo'])\n",
    "    time.sleep(2)\n",
    "    nav.find_element_by_xpath(f'/html/body/div[1]/div[3]/form/div[1]/fieldset/div[{i[\"i\"]}]/input[1]').send_keys(Keys.DOWN)\n",
    "    nav.find_element_by_xpath(f'/html/body/div[1]/div[3]/form/div[1]/fieldset/div[{i[\"i\"]}]/input[1]').send_keys(Keys.ENTER)\n",
    "\n",
    "for i in dict_qtd:    \n",
    "    nav.find_element_by_xpath(f'/html/body/div[1]/div[3]/form/div[1]/fieldset/div[{i[\"i\"]}]/input[3]').send_keys(i['diferenca'])\n"
   ]
  },
  {
   "cell_type": "code",
   "execution_count": null,
   "id": "fea19bc4",
   "metadata": {},
   "outputs": [],
   "source": []
  }
 ],
 "metadata": {
  "kernelspec": {
   "display_name": "Python 3",
   "language": "python",
   "name": "python3"
  },
  "language_info": {
   "codemirror_mode": {
    "name": "ipython",
    "version": 3
   },
   "file_extension": ".py",
   "mimetype": "text/x-python",
   "name": "python",
   "nbconvert_exporter": "python",
   "pygments_lexer": "ipython3",
   "version": "3.8.8"
  }
 },
 "nbformat": 4,
 "nbformat_minor": 5
}
