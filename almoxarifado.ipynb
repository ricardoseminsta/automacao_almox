{
 "cells": [
  {
   "cell_type": "code",
   "execution_count": 13,
   "id": "85512872",
   "metadata": {},
   "outputs": [
    {
     "data": {
      "text/html": [
       "<style>.container { width:100% !important; }</style>"
      ],
      "text/plain": [
       "<IPython.core.display.HTML object>"
      ]
     },
     "metadata": {},
     "output_type": "display_data"
    }
   ],
   "source": [
    "from IPython.core.display import display, HTML\n",
    "display(HTML(\"<style>.container { width:100% !important; }</style>\"))"
   ]
  },
  {
   "cell_type": "code",
   "execution_count": 60,
   "id": "c3d37d65",
   "metadata": {
    "scrolled": false
   },
   "outputs": [
    {
     "name": "stdout",
     "output_type": "stream",
     "text": [
      "0                   14 - MATERIAL EDUCATIVO E ESPORTIVO\n",
      "1                           16 - MATERIAL DE EXPEDIENTE\n",
      "2               17 - MATERIAL DE PROCESSAMENTO DE DADOS\n",
      "3         19 - MATERIAL DE ACONDICIONAMENTO E EMBALAGEM\n",
      "4                       21 - MATERIAL DE COPA E COZINHA\n",
      "5      22 - MATERIAL DE LIMPEZA E PROD. DE HIGIENIZACAO\n",
      "6     24 - MATERIAL P/ MANUT.DE BENS IMOVEIS/INSTALA...\n",
      "7            25 - MATERIAL P/ MANUTENCAO DE BENS MOVEIS\n",
      "8                   26 - MATERIAL ELETRICO E ELETRONICO\n",
      "9                 28 - MATERIAL DE PROTECAO E SEGURANCA\n",
      "10                           35 - MATERIAL LABORATORIAL\n",
      "11                                     42 - FERRAMENTAS\n",
      "12         44 - MATERIAL DE SINALIZACAO VISUAL E OUTROS\n",
      "Name: ed, dtype: object\n"
     ]
    },
    {
     "data": {
      "text/html": [
       "<div>\n",
       "<style scoped>\n",
       "    .dataframe tbody tr th:only-of-type {\n",
       "        vertical-align: middle;\n",
       "    }\n",
       "\n",
       "    .dataframe tbody tr th {\n",
       "        vertical-align: top;\n",
       "    }\n",
       "\n",
       "    .dataframe thead th {\n",
       "        text-align: right;\n",
       "    }\n",
       "</style>\n",
       "<table border=\"1\" class=\"dataframe\">\n",
       "  <thead>\n",
       "    <tr style=\"text-align: right;\">\n",
       "      <th></th>\n",
       "      <th>codigo</th>\n",
       "      <th>ed</th>\n",
       "      <th>descricao_suap</th>\n",
       "      <th>qtd_suap</th>\n",
       "      <th>qtd_lev</th>\n",
       "      <th>diferenca</th>\n",
       "      <th>acao</th>\n",
       "      <th>i</th>\n",
       "    </tr>\n",
       "  </thead>\n",
       "  <tbody>\n",
       "    <tr>\n",
       "      <th>1</th>\n",
       "      <td>30.44.67</td>\n",
       "      <td>44 - MATERIAL DE SINALIZACAO VISUAL E OUTROS</td>\n",
       "      <td>Fita adesiva, material propileno, 20mm x 30m, ...</td>\n",
       "      <td>11</td>\n",
       "      <td>10</td>\n",
       "      <td>1</td>\n",
       "      <td>pedido no suap</td>\n",
       "      <td>1</td>\n",
       "    </tr>\n",
       "  </tbody>\n",
       "</table>\n",
       "</div>"
      ],
      "text/plain": [
       "     codigo                                            ed  \\\n",
       "1  30.44.67  44 - MATERIAL DE SINALIZACAO VISUAL E OUTROS   \n",
       "\n",
       "                                      descricao_suap  qtd_suap  qtd_lev  \\\n",
       "1  Fita adesiva, material propileno, 20mm x 30m, ...        11       10   \n",
       "\n",
       "   diferenca            acao  i  \n",
       "1          1  pedido no suap  1  "
      ]
     },
     "metadata": {},
     "output_type": "display_data"
    },
    {
     "name": "stdout",
     "output_type": "stream",
     "text": [
      "<class 'pandas.core.frame.DataFrame'>\n",
      "Int64Index: 1 entries, 1 to 1\n",
      "Data columns (total 8 columns):\n",
      " #   Column          Non-Null Count  Dtype \n",
      "---  ------          --------------  ----- \n",
      " 0   codigo          1 non-null      object\n",
      " 1   ed              1 non-null      object\n",
      " 2   descricao_suap  1 non-null      object\n",
      " 3   qtd_suap        1 non-null      int64 \n",
      " 4   qtd_lev         1 non-null      int64 \n",
      " 5   diferenca       1 non-null      int64 \n",
      " 6   acao            1 non-null      object\n",
      " 7   i               1 non-null      int64 \n",
      "dtypes: int64(4), object(4)\n",
      "memory usage: 72.0+ bytes\n"
     ]
    },
    {
     "data": {
      "text/plain": [
       "None"
      ]
     },
     "metadata": {},
     "output_type": "display_data"
    }
   ],
   "source": [
    "import pandas as pd\n",
    "autentica = pd.read_excel('ls.xlsx')\n",
    "login = str(autentica['login'][0])\n",
    "senha = str(autentica['senha'][0])\n",
    "\n",
    "# display(autentica)\n",
    "\n",
    "pedidos = pd.read_excel('consolidacao/pedidos/CAFI_pedidos.xlsx')\n",
    "pedidos = pedidos[pedidos['acao'].str.contains('pedido no suap')]\n",
    "\n",
    "# separando elementos de despesa\n",
    "pedidos_ed = pedidos['ed'].drop_duplicates()\n",
    "pedidos_ed.index = [x for x in range(0, len(pedidos_ed))]\n",
    "print(pedidos_ed)\n",
    "\n",
    "pedidos = pedidos[pedidos['ed'].str.contains(str(pedidos_ed[12]))]\n",
    "\n",
    "\n",
    "# reindexando os pedidos\n",
    "pedidos.index = [x for x in range(1, len(pedidos)+1)]\n",
    "pedidos['i'] = [x for x in range(1, len(pedidos)+1)]\n",
    "# pedidos = pedidos.iloc[0:6]\n",
    "display(pedidos)\n",
    "display(pedidos.info())\n",
    "qtd = pedidos[['i', 'diferenca']]\n",
    "dict_qtd = qtd.to_dict('records')\n",
    "ped = pedidos[['i', 'codigo']]\n",
    "dict_ped = ped.to_dict('records')\n",
    "\n",
    "indisponivel = \"indisponivel\""
   ]
  },
  {
   "cell_type": "code",
   "execution_count": 15,
   "id": "88cd81ff",
   "metadata": {},
   "outputs": [],
   "source": [
    "from selenium import webdriver\n",
    "from selenium.webdriver.common.keys import Keys\n",
    "from selenium.webdriver.support.ui import Select\n",
    "from selenium.common.exceptions import NoSuchElementException\n",
    "from selenium.webdriver.support.ui import Select\n",
    "import time\n",
    "\n",
    "def abrir_suap():\n",
    "    \n",
    "    global nav\n",
    "    nav = webdriver.Chrome()\n",
    "    nav.get(\"https://suap.ifpe.edu.br/accounts/login/?next=/\")\n",
    "    # inserindo usuário\n",
    "    nav.find_element_by_xpath('//*[@id=\"id_username\"]').click()\n",
    "    nav.find_element_by_xpath('//*[@id=\"id_username\"]').send_keys(login)\n",
    "\n",
    "    # inserindo senha \n",
    "    nav.find_element_by_xpath('//*[@id=\"id_password\"]').click()\n",
    "    nav.find_element_by_xpath('//*[@id=\"id_password\"]').send_keys(senha)\n",
    "\n",
    "    nav.find_element_by_xpath('//*[@id=\"ok\"]').click()"
   ]
  },
  {
   "cell_type": "code",
   "execution_count": 16,
   "id": "9694b2f1",
   "metadata": {},
   "outputs": [],
   "source": [
    "df_elemento_despesa = pd.DataFrame()\n",
    "df_temp = pd.DataFrame(columns=('value', 'ed'))\n",
    "df_temp.loc[0] = ['14', 'esportes']\n",
    "# display(df_temp)\n",
    "\n",
    "opcoes = []\n",
    "valores = []\n",
    "\n",
    "def varrer_ed():\n",
    "#     abrir_suap()\n",
    "    nav.get(\"https://suap.ifpe.edu.br/almoxarifado/form_busca/materialconsumo/\")\n",
    "        \n",
    "    valor_ed = nav.find_element_by_id('id_elemento_despesa')\n",
    "    options = [x for x in valor_ed.find_elements_by_tag_name('option')]\n",
    "    \n",
    "    for i in options:\n",
    "        # print(i.get_attribute('value')+\" \"+i.text)\n",
    "        opcoes.append(i.text)\n",
    "        valores.append(i.get_attribute('value'))\n",
    "#         print(f'{i.text}-{i.get_attribute(\"value\")}')\n",
    "\n",
    "    df_elemento_despesa['value'] = valores\n",
    "    df_elemento_despesa['ed']= opcoes\n",
    "    \n",
    "#     display(df_elemento_despesa)"
   ]
  },
  {
   "cell_type": "code",
   "execution_count": 17,
   "id": "d55f832f",
   "metadata": {},
   "outputs": [],
   "source": [
    "def get_qtd():\n",
    "    \n",
    "    abrir_suap()\n",
    "    \n",
    "    df_tabela = pd.DataFrame()\n",
    "    tabela = []\n",
    "    codigos = []\n",
    "    descricoes = []\n",
    "    quantidades = []\n",
    "    valores = []\n",
    "    elemento = []\n",
    "    \n",
    "    try:\n",
    "        pag = 1\n",
    "        saida = True\n",
    "        while saida:\n",
    "                \n",
    "            nav.get(f'https://suap.ifpe.edu.br/almoxarifado/form_busca/materialconsumo/?page={pag}&material=&elemento_despesa=&estoque_tipo=emcampus&unidade_medida=')\n",
    "            celula = nav.find_element_by_tag_name('td')\n",
    "                \n",
    "            if celula:\n",
    "                lista = nav.find_element_by_tag_name('table')\n",
    "                td = lista.find_elements_by_tag_name('td')\n",
    "                \n",
    "                for i in td:\n",
    "                    tabela.append(i.text)\n",
    "                \n",
    "                pag += 1\n",
    "            else:\n",
    "                saida = False\n",
    "                \n",
    "    except NoSuchElementException:\n",
    "        print('acabaram as páginas')\n",
    "        \n",
    "    for cod in range(0, len(tabela), 7):\n",
    "        codigos.append(tabela[cod])\n",
    "\n",
    "    for des in range(1, len(tabela), 7):\n",
    "        descricoes.append(tabela[des])\n",
    "\n",
    "    for qtd in range(4, len(tabela), 7):\n",
    "        quantidades.append(tabela[qtd])\n",
    "    \n",
    "    for val in range(5, len(tabela), 7):\n",
    "        valores.append(tabela[val])\n",
    "        \n",
    "    for ed in range(3, len(tabela), 7):\n",
    "        elemento.append(tabela[ed])\n",
    "\n",
    "    df_tabela['codigo'] = codigos\n",
    "    df_tabela['descricao'] = descricoes\n",
    "    \n",
    "    df_tabela['qtd'] = quantidades\n",
    "    df_tabela['qtd'] = pd.to_numeric(df_tabela['qtd'])\n",
    "    \n",
    "    df_tabela['vlr_total'] = valores\n",
    "    df_tabela['vlr_total'] = df_tabela['vlr_total'].str[2:]\n",
    "    df_tabela['vlr_total'] = pd.to_numeric(df_tabela['vlr_total'])\n",
    "    \n",
    "    df_tabela['vlr_unt'] = df_tabela['vlr_total'] / df_tabela['qtd']\n",
    "    df_tabela['vlr_unt'] = df_tabela['vlr_unt'].round(2)\n",
    "    \n",
    "    df_tabela['ed'] = elemento\n",
    "    \n",
    "    df_tabela.to_excel('relatorio/relatorio.xlsx', index=False)\n",
    "    display(df_tabela)\n",
    "    \n",
    "    nav.quit()\n"
   ]
  },
  {
   "cell_type": "code",
   "execution_count": 31,
   "id": "2fe83cbe",
   "metadata": {
    "scrolled": false
   },
   "outputs": [],
   "source": [
    "def set_pedidos():\n",
    "    abrir_suap()\n",
    "\n",
    "    nav.get('https://suap.ifpe.edu.br/almoxarifado/form_requisicao_pessoa_pedido/')\n",
    "\n",
    "    # preenchendo campo do requisitante\n",
    "    nav.find_element_by_xpath('/html/body/div[1]/div[3]/form/fieldset/div[2]/input[1]').send_keys('Andrea Dacal')\n",
    "    time.sleep(3)\n",
    "    nav.find_element_by_xpath('/html/body/div[1]/div[3]/form/fieldset/div[2]/input[1]').send_keys(Keys.DOWN)\n",
    "    nav.find_element_by_xpath('/html/body/div[1]/div[3]/form/fieldset/div[2]/input[1]').send_keys(Keys.ENTER)\n",
    "\n",
    "    # preenchento campo do pedido do material\n",
    "\n",
    "    for i in dict_ped:\n",
    "        nav.find_element_by_xpath(f'/html/body/div[1]/div[3]/form/div[1]/fieldset/div[{i[\"i\"]}]/input[1]').send_keys(i['codigo'])\n",
    "        time.sleep(3)\n",
    "        nav.find_element_by_xpath(f'/html/body/div[1]/div[3]/form/div[1]/fieldset/div[{i[\"i\"]}]/input[1]').send_keys(Keys.DOWN)\n",
    "        nav.find_element_by_xpath(f'/html/body/div[1]/div[3]/form/div[1]/fieldset/div[{i[\"i\"]}]/input[1]').send_keys(Keys.ENTER)\n",
    "        time.sleep(2)\n",
    "        nav.find_element_by_name('addItem').click()\n",
    "\n",
    "    for i in dict_qtd:    \n",
    "        nav.find_element_by_xpath(f'/html/body/div[1]/div[3]/form/div[1]/fieldset/div[{i[\"i\"]}]/input[3]').send_keys(i['diferenca'])"
   ]
  },
  {
   "cell_type": "code",
   "execution_count": 61,
   "id": "de9ac3aa",
   "metadata": {},
   "outputs": [],
   "source": [
    "set_pedidos()"
   ]
  },
  {
   "cell_type": "code",
   "execution_count": null,
   "id": "1628ebc6",
   "metadata": {},
   "outputs": [],
   "source": []
  }
 ],
 "metadata": {
  "kernelspec": {
   "display_name": "Python 3",
   "language": "python",
   "name": "python3"
  },
  "language_info": {
   "codemirror_mode": {
    "name": "ipython",
    "version": 3
   },
   "file_extension": ".py",
   "mimetype": "text/x-python",
   "name": "python",
   "nbconvert_exporter": "python",
   "pygments_lexer": "ipython3",
   "version": "3.8.8"
  }
 },
 "nbformat": 4,
 "nbformat_minor": 5
}
