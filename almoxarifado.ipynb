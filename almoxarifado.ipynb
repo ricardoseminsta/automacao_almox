{
 "cells": [
  {
   "cell_type": "code",
   "execution_count": null,
   "id": "c3d37d65",
   "metadata": {},
   "outputs": [],
   "source": [
    "import pandas as pd\n",
    "autentica = pd.read_excel('ls.xlsx')\n",
    "\n",
    "login = str(autentica['login'][0])\n",
    "senha = str(autentica['senha'][0])\n",
    "\n",
    "indisponivel = \"indisponivel\""
   ]
  },
  {
   "cell_type": "code",
   "execution_count": null,
   "id": "88cd81ff",
   "metadata": {},
   "outputs": [],
   "source": [
    "from selenium import webdriver\n",
    "from selenium.webdriver.common.keys import Keys\n",
    "from selenium.webdriver.support.ui import Select\n",
    "from selenium.common.exceptions import NoSuchElementException\n",
    "from selenium.webdriver.support.ui import Select\n",
    "import time\n",
    "\n",
    "\n",
    "\n",
    "def abrir_suap():\n",
    "    \n",
    "    global nav\n",
    "    nav = webdriver.Chrome()\n",
    "    nav.get(\"https://suap.ifpe.edu.br/accounts/login/?next=/\")\n",
    "    # inserindo usuário\n",
    "    nav.find_element_by_xpath('//*[@id=\"id_username\"]').click()\n",
    "    nav.find_element_by_xpath('//*[@id=\"id_username\"]').send_keys(login)\n",
    "\n",
    "    # inserindo senha \n",
    "    nav.find_element_by_xpath('//*[@id=\"id_password\"]').click()\n",
    "    nav.find_element_by_xpath('//*[@id=\"id_password\"]').send_keys(senha)\n",
    "\n",
    "    nav.find_element_by_xpath('//*[@id=\"ok\"]').click()"
   ]
  },
  {
   "cell_type": "code",
   "execution_count": null,
   "id": "9694b2f1",
   "metadata": {},
   "outputs": [],
   "source": [
    "df_elemento_despesa = pd.DataFrame()\n",
    "opcoes = []\n",
    "valores = []\n",
    "\n",
    "def varrer_ed():\n",
    "    abrir_suap()\n",
    "    nav.get(\"https://suap.ifpe.edu.br/almoxarifado/form_busca/materialconsumo/\")\n",
    "        \n",
    "    valor_ed = nav.find_element_by_id('id_elemento_despesa')\n",
    "    options = [x for x in valor_ed.find_elements_by_tag_name('option')]\n",
    "    \n",
    "    for i in options:\n",
    "        # print(i.get_attribute('value')+\" \"+i.text)\n",
    "        opcoes.append(i.text)\n",
    "        valores.append(i.get_attribute('value'))\n",
    "#         print(f'{i.text}-{i.get_attribute(\"value\")}')\n",
    "\n",
    "    df_elemento_despesa['value'] = valores\n",
    "    df_elemento_despesa['ed']= opcoes\n",
    "#     display(df_elemento_despesa)"
   ]
  },
  {
   "cell_type": "code",
   "execution_count": null,
   "id": "9d55756d",
   "metadata": {},
   "outputs": [],
   "source": [
    "def trocar_sala():\n",
    "    \n",
    "    varrer_ed()\n",
    "    \n",
    "    for ed in df_elemento_despesa['value']:\n",
    "        try:\n",
    "            nav.get(\"https://suap.ifpe.edu.br/almoxarifado/form_busca/materialconsumo/\")\n",
    "            \n",
    "            novo_ed = Select(nav.find_element_by_id('id_elemento_despesa'))\n",
    "            novo_ed.select_by_value(ed)\n",
    "            time.sleep(1)\n",
    "            \n",
    "                \n",
    "#                 nav.find_element_by_xpath('/html/body/div[1]/div[3]/form/div[2]/input').click()\n",
    "        \n",
    "        except TypeError:\n",
    "            continue\n",
    "trocar_sala()"
   ]
  },
  {
   "cell_type": "code",
   "execution_count": null,
   "id": "2fe83cbe",
   "metadata": {},
   "outputs": [],
   "source": []
  }
 ],
 "metadata": {
  "kernelspec": {
   "display_name": "Python 3",
   "language": "python",
   "name": "python3"
  },
  "language_info": {
   "codemirror_mode": {
    "name": "ipython",
    "version": 3
   },
   "file_extension": ".py",
   "mimetype": "text/x-python",
   "name": "python",
   "nbconvert_exporter": "python",
   "pygments_lexer": "ipython3",
   "version": "3.8.8"
  }
 },
 "nbformat": 4,
 "nbformat_minor": 5
}
