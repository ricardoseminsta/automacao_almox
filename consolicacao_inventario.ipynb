{
 "cells": [
  {
   "cell_type": "code",
   "execution_count": null,
   "id": "de099f1f",
   "metadata": {
    "scrolled": false
   },
   "outputs": [],
   "source": [
    "import pandas as pd\n",
    "\n",
    "n_campi = 'CAFI'\n",
    "\n",
    "levantamento = pd.read_excel('consolidacao/levantamento/2022_levantamento.xlsx')\n",
    "suap = pd.read_excel('consolidacao/suap/2023-02-10_11-46_CAFI_relatorio_almox.xlsx')\n",
    "\n",
    "# removendo itens nulos e deixando apenas os retificados\n",
    "retificacao = levantamento[levantamento['Retificação'].str.contains('Retificação').fillna(False)]\n",
    "# lista de itens vencidos\n",
    "vencido = levantamento[levantamento['Material Vencido - MV'].str.contains('x').fillna(False)]\n",
    "# lista de itens não identificados\n",
    "nao_identificado = levantamento[levantamento['Sem identificação - SI'].str.contains('x').fillna(False)]\n",
    "\n",
    "\n",
    "# planilha contendo apenas itens válidos\n",
    "levantamento_ret = levantamento.drop_duplicates(subset=['Código', 'Retificação'], keep='last')\n",
    "levantamento_ret = levantamento_ret.rename(columns={'Código': 'codigo'})\n",
    "# elemento despesa do levantamento\n",
    "ed_lev = levantamento_ret['codigo'].str[3:5]\n",
    "\n",
    "\n",
    "# adicionando ed ao data frame geral\n",
    "# levantamento_ret['ED'] = ed_lev\n",
    "\n",
    "# lista de servidores\n",
    "servidores = levantamento['Endereço de e-mail'].drop_duplicates(keep='last')\n",
    "# reindexando uutilizando list comprehension\n",
    "servidores.index = [x for x in range(0, len(servidores))]\n",
    "\n",
    "levantamento_cross = levantamento_ret.drop(columns=['Material de pouca movimentação - PM', 'Material Vencido - MV',\n",
    "                                                 'Material próximo ao vencimento - PV', 'Material danificado ou avariado - MD',\n",
    "                                                 'Material Obsoleto - MO', 'Sem identificação - SI', 'Valor unitário',\n",
    "                                                 'Campus', 'Retificação', 'Carimbo de data/hora'])\n",
    "levantamento_cross = levantamento_cross.rename(columns={'Endereço de e-mail': 'servidor', 'Nome': 'descricao_lev',\n",
    "                                                        'Quantidade': 'qtd_lev'})\n",
    "levantamento_cross = levantamento_cross[['codigo', 'descricao_lev', 'qtd_lev', 'servidor']]\n",
    "\n",
    "suap_cross = suap.rename(columns={'descricao': 'descricao_suap', 'qtd': 'qtd_suap'})\n",
    "suap_cross = suap_cross.drop(columns=['vlr_total', 'vlr_unt'])\n",
    "display(suap_cross)\n",
    "display(levantamento_cross)\n",
    "\n",
    "consolidacao = pd.merge(suap_cross, levantamento_cross, on='codigo', how='outer', indicator=True)\n",
    "consolidacao.to_excel(f'consolidacao/{n_campi}_consolidacao.xlsx', index=False)"
   ]
  },
  {
   "cell_type": "code",
   "execution_count": null,
   "id": "ac51691b",
   "metadata": {
    "scrolled": false
   },
   "outputs": [],
   "source": [
    "consolidacao['diferenca'] = consolidacao['qtd_suap'] - consolidacao['qtd_lev']\n",
    "display(consolidacao)\n",
    "\n",
    "pedidos = consolidacao[consolidacao['_merge'].str.contains('both')]\n",
    "pedidos = pedidos[['codigo','ed' ,'descricao_suap', 'qtd_suap', 'qtd_lev', 'diferenca']]\n",
    "\n",
    "acao = []\n",
    "for valor in pedidos['diferenca']:\n",
    "    \n",
    "    if valor > 0:\n",
    "        baixa = \"pedido no suap\"\n",
    "        acao.append(baixa)\n",
    "    elif valor < 0:\n",
    "        baixa = \"saida sem pedido\"\n",
    "        acao.append(baixa)\n",
    "    else:\n",
    "        baixa = 'adequado'\n",
    "        acao.append(baixa)\n",
    "\n",
    "pedidos['acao'] = acao\n",
    "pedidos.to_excel(f'consolidacao/pedidos/{n_campi}_pedidos.xlsx', index=False)\n",
    "display(pedidos)"
   ]
  },
  {
   "cell_type": "code",
   "execution_count": null,
   "id": "2b248be3",
   "metadata": {},
   "outputs": [],
   "source": []
  },
  {
   "cell_type": "code",
   "execution_count": null,
   "id": "9263fe4f",
   "metadata": {},
   "outputs": [],
   "source": []
  }
 ],
 "metadata": {
  "kernelspec": {
   "display_name": "Python 3 (ipykernel)",
   "language": "python",
   "name": "python3"
  },
  "language_info": {
   "codemirror_mode": {
    "name": "ipython",
    "version": 3
   },
   "file_extension": ".py",
   "mimetype": "text/x-python",
   "name": "python",
   "nbconvert_exporter": "python",
   "pygments_lexer": "ipython3",
   "version": "3.9.13"
  }
 },
 "nbformat": 4,
 "nbformat_minor": 5
}
