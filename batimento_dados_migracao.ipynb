{
 "cells": [
  {
   "cell_type": "code",
   "execution_count": 4,
   "id": "34b8a145",
   "metadata": {},
   "outputs": [],
   "source": [
    "import logging\n",
    "import time\n",
    "import random\n",
    "from datetime import datetime\n",
    "\n",
    "n_campi = 'CAFI'\n",
    "\n",
    "data_e_hora_atuais = datetime.now()\n",
    "data_e_hora = data_e_hora_atuais.strftime('%Y-%m-%d_%H-%M')\n",
    "\n",
    "logger = logging.getLogger('batimento')\n",
    "logger.setLevel(logging.DEBUG)\n",
    "\n",
    "# fHandler = logging.FileHandler(f'logs/{data_e_hora_atuais}_batimento.log', mode='w')\n",
    "formatter = logging.Formatter('%(asctime)s - %(levelname)s - %(message)s')\n",
    "\n",
    "fHandler.setFormatter(formatter)\n",
    "logger.addHandler(fHandler)\n",
    "\n",
    "# logging.basicConfig(level=logging.DEBUG, filename='app.log', filemode='x', format='%(asctime)s - %(levelname)s - %(message)s')\n",
    "logger.info(f'Iniciando consolidação campus {n_campi}')\n",
    "# logger.debug('debug message')\n",
    "# logger.warning('warn message')"
   ]
  },
  {
   "cell_type": "code",
   "execution_count": 16,
   "id": "fabbe616",
   "metadata": {},
   "outputs": [
    {
     "name": "stdout",
     "output_type": "stream",
     "text": [
      "<class 'pandas.core.frame.DataFrame'>\n",
      "RangeIndex: 475 entries, 0 to 474\n",
      "Data columns (total 32 columns):\n",
      " #   Column                                Non-Null Count  Dtype         \n",
      "---  ------                                --------------  -----         \n",
      " 0   Carimbo de data/hora                  475 non-null    datetime64[ns]\n",
      " 1   Endereço de e-mail                    475 non-null    object        \n",
      " 2   Retificação                           0 non-null      float64       \n",
      " 3   ED                                    475 non-null    int64         \n",
      " 4   CÓD.FINAL.MAT                         475 non-null    int64         \n",
      " 5   Observações                           475 non-null    object        \n",
      " 6   ordenaçãolista                        0 non-null      float64       \n",
      " 7   codigo                                475 non-null    object        \n",
      " 8   Unnamed: 8                            475 non-null    bool          \n",
      " 9   Nome                                  475 non-null    object        \n",
      " 10  Unnamed: 10                           475 non-null    bool          \n",
      " 11  Quantidade                            475 non-null    int64         \n",
      " 12  Campus                                475 non-null    object        \n",
      " 13  Localização                           247 non-null    object        \n",
      " 14  Valor unitário                        475 non-null    float64       \n",
      " 15  Sem identificação - SI                0 non-null      float64       \n",
      " 16  Material Obsoleto - MO                0 non-null      float64       \n",
      " 17  Material danificado ou avariado - MD  0 non-null      float64       \n",
      " 18  Material próximo ao vencimento - PV   0 non-null      float64       \n",
      " 19  Material Vencido - MV                 1 non-null      object        \n",
      " 20  Material de pouca movimentação - PM   0 non-null      float64       \n",
      " 21  REPATIDOS CADMAT                      475 non-null    bool          \n",
      " 22  CADMAT                                414 non-null    float64       \n",
      " 23  DESCRIÇÃO                             423 non-null    object        \n",
      " 24  Unidade de Fornecimento               439 non-null    object        \n",
      " 25  CONTA CONTÁBIL                        412 non-null    float64       \n",
      " 26  Localização.1                         0 non-null      float64       \n",
      " 27  Quantidade.1                          0 non-null      float64       \n",
      " 28  ESTOCÁVEL                             0 non-null      float64       \n",
      " 29  VALOR SALDO                           0 non-null      float64       \n",
      " 30  valor unitário                        0 non-null      float64       \n",
      " 31  VALOR SALDO.1                         0 non-null      float64       \n",
      "dtypes: bool(3), datetime64[ns](1), float64(16), int64(3), object(9)\n",
      "memory usage: 109.1+ KB\n"
     ]
    },
    {
     "data": {
      "text/plain": [
       "None"
      ]
     },
     "metadata": {},
     "output_type": "display_data"
    },
    {
     "name": "stdout",
     "output_type": "stream",
     "text": [
      "<class 'pandas.core.frame.DataFrame'>\n",
      "Int64Index: 473 entries, 0 to 474\n",
      "Data columns (total 6 columns):\n",
      " #   Column          Non-Null Count  Dtype  \n",
      "---  ------          --------------  -----  \n",
      " 0   codigo          473 non-null    object \n",
      " 1   ED              473 non-null    int64  \n",
      " 2   Nome            473 non-null    object \n",
      " 3   Quantidade      473 non-null    int64  \n",
      " 4   CADMAT          412 non-null    float64\n",
      " 5   valor unitário  0 non-null      float64\n",
      "dtypes: float64(2), int64(2), object(2)\n",
      "memory usage: 25.9+ KB\n"
     ]
    },
    {
     "data": {
      "text/plain": [
       "None"
      ]
     },
     "metadata": {},
     "output_type": "display_data"
    },
    {
     "name": "stdout",
     "output_type": "stream",
     "text": [
      "<class 'pandas.core.frame.DataFrame'>\n",
      "RangeIndex: 411 entries, 0 to 410\n",
      "Data columns (total 7 columns):\n",
      " #   Column     Non-Null Count  Dtype  \n",
      "---  ------     --------------  -----  \n",
      " 0   codigo     411 non-null    object \n",
      " 1   descricao  411 non-null    object \n",
      " 2   und        411 non-null    object \n",
      " 3   qtd        411 non-null    int64  \n",
      " 4   vlr_total  411 non-null    float64\n",
      " 5   vlr_unt    411 non-null    float64\n",
      " 6   ed         411 non-null    object \n",
      "dtypes: float64(2), int64(1), object(4)\n",
      "memory usage: 22.6+ KB\n"
     ]
    },
    {
     "data": {
      "text/plain": [
       "None"
      ]
     },
     "metadata": {},
     "output_type": "display_data"
    }
   ],
   "source": [
    "import pandas as pd\n",
    "\n",
    "logger.info(f'carregando palnilha de levantamento fisico campus {n_campi}')\n",
    "levantamento = pd.read_excel('batimento/lev_fisico/Inventário Almoxarifado - Afogados da Ingazeira - 2023 (respostas).xlsx', sheet_name=1)\n",
    "levantamento = levantamento.rename(columns={\"Código\":\"codigo\"})\n",
    "display(levantamento.info())\n",
    "levantamento = levantamento[[\"codigo\", \"ED\", \"Nome\", \"Quantidade\", \"CADMAT\", \"valor unitário\"]]\n",
    "levantamento = levantamento.drop_duplicates(keep=\"last\")\n",
    "display(levantamento.info())\n",
    "\n",
    "suap = pd.read_excel('batimento/suap/2024-01-08_15-39_CAFI_relatorio_almox.xlsx')\n",
    "display(suap.info())"
   ]
  },
  {
   "cell_type": "code",
   "execution_count": null,
   "id": "c66c1cee",
   "metadata": {},
   "outputs": [],
   "source": []
  }
 ],
 "metadata": {
  "kernelspec": {
   "display_name": "Python 3 (ipykernel)",
   "language": "python",
   "name": "python3"
  },
  "language_info": {
   "codemirror_mode": {
    "name": "ipython",
    "version": 3
   },
   "file_extension": ".py",
   "mimetype": "text/x-python",
   "name": "python",
   "nbconvert_exporter": "python",
   "pygments_lexer": "ipython3",
   "version": "3.10.9"
  }
 },
 "nbformat": 4,
 "nbformat_minor": 5
}
