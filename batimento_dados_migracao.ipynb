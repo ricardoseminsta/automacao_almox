{
 "cells": [
  {
   "cell_type": "code",
   "execution_count": 54,
   "id": "34b8a145",
   "metadata": {},
   "outputs": [],
   "source": [
    "import logging\n",
    "import time\n",
    "import random\n",
    "from datetime import datetime\n",
    "\n",
    "name = 'CAFI'\n",
    "\n",
    "data_e_hora_atuais = datetime.now()\n",
    "data_e_hora = data_e_hora_atuais.strftime('%Y-%m-%d_%H-%M')\n",
    "\n",
    "logger = logging.getLogger('batimento')\n",
    "logger.setLevel(logging.DEBUG)\n",
    "\n",
    "# fHandler = logging.FileHandler(f'logs/{data_e_hora_atuais}_batimento.log', mode='w')\n",
    "# formatter = logging.Formatter('%(asctime)s - %(levelname)s - %(message)s')\n",
    "\n",
    "# fHandler.setFormatter(formatter)\n",
    "# logger.addHandler(fHandler)\n",
    "\n",
    "# logging.basicConfig(level=logging.DEBUG, filename='app.log', filemode='x', format='%(asctime)s - %(levelname)s - %(message)s')\n",
    "logger.info(f'Iniciando consolidação campus {name}')\n",
    "# logger.debug('debug message')\n",
    "# logger.warning('warn message')"
   ]
  },
  {
   "cell_type": "code",
   "execution_count": 55,
   "id": "fabbe616",
   "metadata": {},
   "outputs": [
    {
     "name": "stdout",
     "output_type": "stream",
     "text": [
      "<class 'pandas.core.frame.DataFrame'>\n",
      "Int64Index: 403 entries, 0 to 402\n",
      "Data columns (total 6 columns):\n",
      " #   Column          Non-Null Count  Dtype  \n",
      "---  ------          --------------  -----  \n",
      " 0   codigo          403 non-null    object \n",
      " 1   ED              403 non-null    int64  \n",
      " 2   Nome            403 non-null    object \n",
      " 3   Quantidade      403 non-null    int64  \n",
      " 4   CADMAT          396 non-null    float64\n",
      " 5   valor unitário  0 non-null      float64\n",
      "dtypes: float64(2), int64(2), object(2)\n",
      "memory usage: 22.0+ KB\n"
     ]
    },
    {
     "data": {
      "text/plain": [
       "None"
      ]
     },
     "metadata": {},
     "output_type": "display_data"
    },
    {
     "name": "stdout",
     "output_type": "stream",
     "text": [
      "<class 'pandas.core.frame.DataFrame'>\n",
      "RangeIndex: 411 entries, 0 to 410\n",
      "Data columns (total 7 columns):\n",
      " #   Column     Non-Null Count  Dtype  \n",
      "---  ------     --------------  -----  \n",
      " 0   codigo     411 non-null    object \n",
      " 1   descricao  411 non-null    object \n",
      " 2   und        411 non-null    object \n",
      " 3   qtd        411 non-null    int64  \n",
      " 4   vlr_total  411 non-null    float64\n",
      " 5   vlr_unt    411 non-null    float64\n",
      " 6   ed         411 non-null    object \n",
      "dtypes: float64(2), int64(1), object(4)\n",
      "memory usage: 22.6+ KB\n"
     ]
    },
    {
     "data": {
      "text/plain": [
       "None"
      ]
     },
     "metadata": {},
     "output_type": "display_data"
    }
   ],
   "source": [
    "import pandas as pd\n",
    "\n",
    "logger.info(f'carregando palnilha de levantamento fisico campus {name}')\n",
    "levantamento = pd.read_excel('batimento/lev_fisico/2024_levantamento_final.xlsx', sheet_name=1)\n",
    "levantamento = levantamento.rename(columns={\"Código\":\"codigo\"})\n",
    "# display(levantamento.info())\n",
    "\n",
    "levantamento = levantamento[[\"codigo\", \"ED\", \"Nome\", \"Quantidade\", \"CADMAT\", \"valor unitário\"]]\n",
    "levantamento = levantamento.drop_duplicates(keep=\"last\")\n",
    "duplicada = levantamento.duplicated(subset=['codigo'])\n",
    "# display(len(duplicada))\n",
    "display(levantamento.info())\n",
    "\n",
    "suap = pd.read_excel('batimento/suap/2024-01-08_15-39_CAFI_relatorio_almox.xlsx')\n",
    "display(suap.info())"
   ]
  },
  {
   "cell_type": "code",
   "execution_count": 56,
   "id": "c66c1cee",
   "metadata": {},
   "outputs": [
    {
     "name": "stdout",
     "output_type": "stream",
     "text": [
      "<class 'pandas.core.frame.DataFrame'>\n",
      "Int64Index: 412 entries, 0 to 411\n",
      "Data columns (total 13 columns):\n",
      " #   Column          Non-Null Count  Dtype   \n",
      "---  ------          --------------  -----   \n",
      " 0   codigo          412 non-null    object  \n",
      " 1   descricao       412 non-null    object  \n",
      " 2   und             412 non-null    object  \n",
      " 3   qtd             412 non-null    int64   \n",
      " 4   vlr_total       412 non-null    float64 \n",
      " 5   vlr_unt         412 non-null    float64 \n",
      " 6   ed              412 non-null    object  \n",
      " 7   ED              403 non-null    float64 \n",
      " 8   Nome            403 non-null    object  \n",
      " 9   Quantidade      403 non-null    float64 \n",
      " 10  CADMAT          396 non-null    float64 \n",
      " 11  valor unitário  0 non-null      float64 \n",
      " 12  _merge          412 non-null    category\n",
      "dtypes: category(1), float64(6), int64(1), object(5)\n",
      "memory usage: 42.4+ KB\n"
     ]
    },
    {
     "data": {
      "text/plain": [
       "None"
      ]
     },
     "metadata": {},
     "output_type": "display_data"
    },
    {
     "data": {
      "text/html": [
       "<div>\n",
       "<style scoped>\n",
       "    .dataframe tbody tr th:only-of-type {\n",
       "        vertical-align: middle;\n",
       "    }\n",
       "\n",
       "    .dataframe tbody tr th {\n",
       "        vertical-align: top;\n",
       "    }\n",
       "\n",
       "    .dataframe thead th {\n",
       "        text-align: right;\n",
       "    }\n",
       "</style>\n",
       "<table border=\"1\" class=\"dataframe\">\n",
       "  <thead>\n",
       "    <tr style=\"text-align: right;\">\n",
       "      <th></th>\n",
       "      <th>codigo</th>\n",
       "      <th>descricao</th>\n",
       "      <th>und</th>\n",
       "      <th>qtd</th>\n",
       "      <th>vlr_total</th>\n",
       "      <th>vlr_unt</th>\n",
       "      <th>ed</th>\n",
       "      <th>ED</th>\n",
       "      <th>Nome</th>\n",
       "      <th>Quantidade</th>\n",
       "      <th>CADMAT</th>\n",
       "      <th>valor unitário</th>\n",
       "      <th>_merge</th>\n",
       "    </tr>\n",
       "  </thead>\n",
       "  <tbody>\n",
       "    <tr>\n",
       "      <th>367</th>\n",
       "      <td>30.26.480</td>\n",
       "      <td>CABO ELÉTRICO FLEXIVEL 1,5MM VERMELHO TENSÃO 7...</td>\n",
       "      <td>ROLO</td>\n",
       "      <td>3</td>\n",
       "      <td>1.23</td>\n",
       "      <td>0.41</td>\n",
       "      <td>26 - MATERIAL ELETRICO E ELETRONICO</td>\n",
       "      <td>26.0</td>\n",
       "      <td>CABO ELÉTRICO FLEXIVEL 1,5MM VERMELHO TENSÃO 7...</td>\n",
       "      <td>3.0</td>\n",
       "      <td>1781014.0</td>\n",
       "      <td>NaN</td>\n",
       "      <td>both</td>\n",
       "    </tr>\n",
       "  </tbody>\n",
       "</table>\n",
       "</div>"
      ],
      "text/plain": [
       "        codigo                                          descricao   und  qtd  \\\n",
       "367  30.26.480  CABO ELÉTRICO FLEXIVEL 1,5MM VERMELHO TENSÃO 7...  ROLO    3   \n",
       "\n",
       "     vlr_total  vlr_unt                                   ed    ED  \\\n",
       "367       1.23     0.41  26 - MATERIAL ELETRICO E ELETRONICO  26.0   \n",
       "\n",
       "                                                  Nome  Quantidade     CADMAT  \\\n",
       "367  CABO ELÉTRICO FLEXIVEL 1,5MM VERMELHO TENSÃO 7...         3.0  1781014.0   \n",
       "\n",
       "     valor unitário _merge  \n",
       "367             NaN   both  "
      ]
     },
     "metadata": {},
     "output_type": "display_data"
    },
    {
     "name": "stdout",
     "output_type": "stream",
     "text": [
      "<class 'pandas.core.frame.DataFrame'>\n",
      "Int64Index: 411 entries, 0 to 411\n",
      "Data columns (total 13 columns):\n",
      " #   Column          Non-Null Count  Dtype   \n",
      "---  ------          --------------  -----   \n",
      " 0   codigo          411 non-null    object  \n",
      " 1   descricao       411 non-null    object  \n",
      " 2   und             411 non-null    object  \n",
      " 3   qtd             411 non-null    int64   \n",
      " 4   vlr_total       411 non-null    float64 \n",
      " 5   vlr_unt         411 non-null    float64 \n",
      " 6   ed              411 non-null    object  \n",
      " 7   ED              402 non-null    float64 \n",
      " 8   Nome            402 non-null    object  \n",
      " 9   Quantidade      402 non-null    float64 \n",
      " 10  CADMAT          395 non-null    float64 \n",
      " 11  valor unitário  0 non-null      float64 \n",
      " 12  _merge          411 non-null    category\n",
      "dtypes: category(1), float64(6), int64(1), object(5)\n",
      "memory usage: 42.3+ KB\n"
     ]
    },
    {
     "data": {
      "text/plain": [
       "None"
      ]
     },
     "metadata": {},
     "output_type": "display_data"
    }
   ],
   "source": [
    "batimento = pd.merge(suap, levantamento, on='codigo', how='outer', indicator=True)\n",
    "display(batimento.info())\n",
    "duplicada = batimento[batimento.duplicated(subset=['codigo'])]\n",
    "display(duplicada)\n",
    "batimento = batimento.drop_duplicates(subset=['codigo'], keep='last')\n",
    "display(batimento.info())\n"
   ]
  },
  {
   "cell_type": "code",
   "execution_count": 57,
   "id": "5845d35a",
   "metadata": {},
   "outputs": [
    {
     "data": {
      "text/plain": [
       "0      30.14.117\n",
       "1      30.14.121\n",
       "2      30.14.122\n",
       "3      30.14.123\n",
       "4       30.14.13\n",
       "         ...    \n",
       "407    30.42.969\n",
       "408    30.42.970\n",
       "409    30.42.982\n",
       "410    30.42.995\n",
       "411     30.44.67\n",
       "Name: codigo, Length: 411, dtype: object"
      ]
     },
     "metadata": {},
     "output_type": "display_data"
    }
   ],
   "source": [
    "batimento.to_excel(f'batimento/merge/{data_e_hora}_{name}_batimento.xlsx', index=False)\n",
    "\n",
    "display(batimento['codigo'])"
   ]
  },
  {
   "cell_type": "code",
   "execution_count": 58,
   "id": "401b631d",
   "metadata": {},
   "outputs": [],
   "source": [
    "ed = batimento['codigo'].str[3:5]\n",
    "batimento['elemento'] = ed"
   ]
  },
  {
   "cell_type": "code",
   "execution_count": 59,
   "id": "85b18d49",
   "metadata": {},
   "outputs": [],
   "source": [
    "batimento.to_excel(f'batimento/merge/{data_e_hora}_{name}_batimento.xlsx', index=False)"
   ]
  },
  {
   "cell_type": "code",
   "execution_count": null,
   "id": "a62ed078",
   "metadata": {},
   "outputs": [],
   "source": []
  }
 ],
 "metadata": {
  "kernelspec": {
   "display_name": "Python 3 (ipykernel)",
   "language": "python",
   "name": "python3"
  },
  "language_info": {
   "codemirror_mode": {
    "name": "ipython",
    "version": 3
   },
   "file_extension": ".py",
   "mimetype": "text/x-python",
   "name": "python",
   "nbconvert_exporter": "python",
   "pygments_lexer": "ipython3",
   "version": "3.10.9"
  }
 },
 "nbformat": 4,
 "nbformat_minor": 5
}
